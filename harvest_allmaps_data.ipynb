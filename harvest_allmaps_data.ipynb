{
 "cells": [
  {
   "cell_type": "code",
   "execution_count": 39,
   "id": "e24c51dd-cd68-49c9-919d-56780e2864ae",
   "metadata": {},
   "outputs": [],
   "source": [
    "import arrow\n",
    "import requests\n",
    "import re\n",
    "from pathlib import Path\n",
    "import pandas as pd\n",
    "from geojson import Feature, FeatureCollection\n",
    "import geojson\n",
    "import json"
   ]
  },
  {
   "cell_type": "code",
   "execution_count": 40,
   "id": "95e2a902-a642-48b9-892b-f929d58953eb",
   "metadata": {},
   "outputs": [],
   "source": [
    "response = requests.get(\n",
    "    \"https://annotations.allmaps.org/maps?manifestdomain=rosetta.slv.vic.gov.au\"\n",
    ")"
   ]
  },
  {
   "cell_type": "code",
   "execution_count": 41,
   "id": "5d75d261-8051-42da-9be9-1560fef37a9f",
   "metadata": {},
   "outputs": [],
   "source": [
    "data = response.json()"
   ]
  },
  {
   "cell_type": "code",
   "execution_count": 42,
   "id": "7ae0250c-5521-48bc-80a6-f0d695c24f6d",
   "metadata": {},
   "outputs": [],
   "source": [
    "if Path(\"georeferenced_maps.csv\").exists():\n",
    "    df_old = pd.read_csv(\"georeferenced_maps.csv\")\n",
    "    start_date = arrow.get(df_old[\"modified\"].max())\n",
    "    first_run = False\n",
    "else:\n",
    "    start_date = arrow.get(\"2025-01-01\")\n",
    "    first_run = True"
   ]
  },
  {
   "cell_type": "code",
   "execution_count": 43,
   "id": "a786c16a-b5c2-4930-849f-dc4957999c95",
   "metadata": {
    "editable": true,
    "slideshow": {
     "slide_type": ""
    },
    "tags": []
   },
   "outputs": [],
   "source": [
    "def get_label(field):\n",
    "    for value in field.values():\n",
    "        return \" / \".join(value)\n",
    "    \n",
    "\n",
    "maps = []\n",
    "features = []\n",
    "for item in data[\"items\"]:\n",
    "    if arrow.get(item[\"modified\"]) > start_date:\n",
    "        map_url = item[\"id\"]\n",
    "        map_id = map_url.strip(\"/\").split(\"/\")[-1]\n",
    "        properties = {\n",
    "            \"allmaps_map_id\": map_url,\n",
    "            \"allmaps_manifest_id\": item[\"body\"][\"_allmaps\"][\"image\"][\"canvases\"][0][\"manifests\"][0][\n",
    "                \"id\"\n",
    "            ],\n",
    "            \"image_id\": item[\"target\"][\"source\"][\"id\"],\n",
    "            \"ie_id\": re.search(r\"\\/(IE\\d+):\", item[\"target\"][\"source\"][\"id\"]).group(1),\n",
    "            \"fl_id\": re.search(r\":(FL\\d+)\\.\", item[\"target\"][\"source\"][\"id\"]).group(1),\n",
    "            \"map_title\": get_label(item[\"target\"][\"source\"][\"partOf\"][0][\"label\"]),\n",
    "            \"manifest_title\": get_label(item[\"target\"][\"source\"][\"partOf\"][0][\"partOf\"][0][\"label\"]),\n",
    "            \"area\": item[\"body\"][\"_allmaps\"][\"area\"],\n",
    "            \"modified\": item[\"modified\"],\n",
    "            \"created\": item[\"created\"]\n",
    "        }\n",
    "        allmaps_maps_dir = Path(\"maps\")\n",
    "        allmaps_geojson_dir = Path(\"geojson\")\n",
    "        allmaps_maps_dir.mkdir(exist_ok=True, parents=True)\n",
    "        allmaps_geojson_dir.mkdir(exist_ok=True, parents=True)\n",
    "        response = requests.get(item[\"id\"])\n",
    "        Path(allmaps_maps_dir, f\"{map_id}.json\").write_text(response.text)\n",
    "        response = requests.get(f\"{map_url.strip(\"/\")}.geojson\")\n",
    "        Path(allmaps_geojson_dir, f\"{map_id}.geojson\").write_text(response.text)\n",
    "        geom = response.json()[\"geometry\"]\n",
    "        geomap = properties.copy()\n",
    "        geomap[\"geometry\"] = geom\n",
    "        maps.append(geomap)\n",
    "        features.append(Feature(geometry=geom, properties=properties))"
   ]
  },
  {
   "cell_type": "code",
   "execution_count": 47,
   "id": "07fd6402-45e1-45fe-a48c-a175590fdbc4",
   "metadata": {
    "editable": true,
    "slideshow": {
     "slide_type": ""
    },
    "tags": []
   },
   "outputs": [],
   "source": [
    "df_new = pd.DataFrame(maps)\n",
    "\n",
    "if first_run:\n",
    "    Path(\"georeferenced_maps.geojson\").write_text(geojson.dumps(FeatureCollection(features=features)))\n",
    "    df_new.to_csv(\"georeferenced_maps.csv\", index=False)\n",
    "else:\n",
    "    geodata = geojson.loads(Path(\"georeferenced_maps.geojson\").read_text())\n",
    "    geodata[\"features\"] += features\n",
    "    Path(\"georeferenced_maps.geojson\").write_text(geojson.dumps(geodata))\n",
    "    df = pd.concat([df_old, df_new]).sort_values(\"modified\", ascending=False)\n",
    "    df.drop_duplicates(\"allmaps_map_id\", inplace=True)\n",
    "    df.to_csv(\"georeferenced_maps.csv\", index=False)    "
   ]
  },
  {
   "cell_type": "code",
   "execution_count": 38,
   "id": "fbd6ffde-705d-4530-8045-db7771c81853",
   "metadata": {
    "editable": true,
    "slideshow": {
     "slide_type": ""
    },
    "tags": []
   },
   "outputs": [],
   "source": [
    "df[\"allmaps_link\"] = df[\"allmaps_map_id\"].apply(lambda x: json.dumps({\"href\" : f\"https://viewer.allmaps.org/?url={x}\", \"label\": \"View in the AllMaps viewer\"}))\n",
    "df[\"slv_link\"] = df.apply(lambda x: json.dumps({\"href\": f\"https://viewer.slv.vic.gov.au/?entity={x[\"ie_id\"]}&file={x[\"fl_id\"]}&mode=browse\", \"label\": \"View in the SLV viewer\"}), axis=1)\n",
    "df[\"thumbnail\"] = df[\"image_id\"].apply(lambda x: json.dumps({\"img_src\": f\"{x}/full/!100,100/0/default.jpg\"}))\n",
    "df[[\"thumbnail\", \"manifest_title\", \"map_title\", \"modified\", \"allmaps_link\", \"slv_link\"]].to_csv(\"georeferenced_maps_datasette.csv\", index=False)   "
   ]
  }
 ],
 "metadata": {
  "kernelspec": {
   "display_name": "Python 3 (ipykernel)",
   "language": "python",
   "name": "python3"
  },
  "language_info": {
   "codemirror_mode": {
    "name": "ipython",
    "version": 3
   },
   "file_extension": ".py",
   "mimetype": "text/x-python",
   "name": "python",
   "nbconvert_exporter": "python",
   "pygments_lexer": "ipython3",
   "version": "3.12.11"
  }
 },
 "nbformat": 4,
 "nbformat_minor": 5
}
